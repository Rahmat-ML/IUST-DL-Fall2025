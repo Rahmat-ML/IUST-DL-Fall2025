{
  "nbformat": 4,
  "nbformat_minor": 0,
  "metadata": {
    "colab": {
      "provenance": [],
      "authorship_tag": "ABX9TyNfhBSW935/ieSDqNkZuyJF",
      "include_colab_link": true
    },
    "kernelspec": {
      "name": "python3",
      "display_name": "Python 3"
    },
    "language_info": {
      "name": "python"
    }
  },
  "cells": [
    {
      "cell_type": "markdown",
      "metadata": {
        "id": "view-in-github",
        "colab_type": "text"
      },
      "source": [
        "<a href=\"https://colab.research.google.com/github/rallm/IUST-DL-Fall2025/blob/main/HW1/ans/hw1_p2.ipynb\" target=\"_parent\"><img src=\"https://colab.research.google.com/assets/colab-badge.svg\" alt=\"Open In Colab\"/></a>"
      ]
    },
    {
      "cell_type": "code",
      "execution_count": 1,
      "metadata": {
        "id": "RaY-wk8GeIyY"
      },
      "outputs": [],
      "source": [
        "import numpy as np"
      ]
    },
    {
      "cell_type": "code",
      "source": [
        "z = np.array([1.5, 2.8, 3.1, 1.0, 2.5]).reshape(5, 1)\n",
        "z"
      ],
      "metadata": {
        "colab": {
          "base_uri": "https://localhost:8080/"
        },
        "id": "D4byPwSHeYMB",
        "outputId": "36c51d49-9ba5-49d2-abe2-24e895c5bfa1"
      },
      "execution_count": 4,
      "outputs": [
        {
          "output_type": "execute_result",
          "data": {
            "text/plain": [
              "array([[1.5],\n",
              "       [2.8],\n",
              "       [3.1],\n",
              "       [1. ],\n",
              "       [2.5]])"
            ]
          },
          "metadata": {},
          "execution_count": 4
        }
      ]
    },
    {
      "cell_type": "code",
      "source": [
        "z_exp = np.exp(z)\n",
        "z_exp"
      ],
      "metadata": {
        "colab": {
          "base_uri": "https://localhost:8080/"
        },
        "id": "ItAPsA1QeqR8",
        "outputId": "92217f1a-8ba0-4f31-9669-80f0bdaaba3c"
      },
      "execution_count": 5,
      "outputs": [
        {
          "output_type": "execute_result",
          "data": {
            "text/plain": [
              "array([[ 4.48168907],\n",
              "       [16.44464677],\n",
              "       [22.19795128],\n",
              "       [ 2.71828183],\n",
              "       [12.18249396]])"
            ]
          },
          "metadata": {},
          "execution_count": 5
        }
      ]
    },
    {
      "cell_type": "code",
      "source": [
        "sum_exp_xj = np.sum(z_exp)\n",
        "print(sum_exp_xj)"
      ],
      "metadata": {
        "colab": {
          "base_uri": "https://localhost:8080/"
        },
        "id": "oz6m-TEoetc0",
        "outputId": "eb4bbe03-3ecd-4602-8ab0-b991d2ecc580"
      },
      "execution_count": 7,
      "outputs": [
        {
          "output_type": "stream",
          "name": "stdout",
          "text": [
            "58.025062912039274\n"
          ]
        }
      ]
    },
    {
      "cell_type": "code",
      "source": [
        "softmax_results = z_exp / sum_exp_xj\n",
        "softmax_results"
      ],
      "metadata": {
        "colab": {
          "base_uri": "https://localhost:8080/"
        },
        "id": "0H__4t-3fWAo",
        "outputId": "7119f7ac-abda-45d2-e44d-df81a05be9f0"
      },
      "execution_count": 8,
      "outputs": [
        {
          "output_type": "execute_result",
          "data": {
            "text/plain": [
              "array([[0.07723713],\n",
              "       [0.28340593],\n",
              "       [0.38255799],\n",
              "       [0.04684668],\n",
              "       [0.20995227]])"
            ]
          },
          "metadata": {},
          "execution_count": 8
        }
      ]
    },
    {
      "cell_type": "code",
      "source": [
        "y = np.zeros((5, 1))\n",
        "y[3, 0] = 1\n",
        "y"
      ],
      "metadata": {
        "colab": {
          "base_uri": "https://localhost:8080/"
        },
        "id": "eLqE8JUOf3NH",
        "outputId": "08bf0bc9-9d71-4685-9349-6f900bae8ffd"
      },
      "execution_count": 10,
      "outputs": [
        {
          "output_type": "execute_result",
          "data": {
            "text/plain": [
              "array([[0.],\n",
              "       [0.],\n",
              "       [0.],\n",
              "       [1.],\n",
              "       [0.]])"
            ]
          },
          "metadata": {},
          "execution_count": 10
        }
      ]
    },
    {
      "cell_type": "code",
      "source": [
        "cross_entropy = -np.sum(y * np.log(softmax_results + 1e-10))\n",
        "print(cross_entropy)"
      ],
      "metadata": {
        "colab": {
          "base_uri": "https://localhost:8080/"
        },
        "id": "Yy9sKdxBhb_1",
        "outputId": "45302637-ed2f-4ca2-c660-19dfb2839566"
      },
      "execution_count": 12,
      "outputs": [
        {
          "output_type": "stream",
          "name": "stdout",
          "text": [
            "3.060875034248285\n"
          ]
        }
      ]
    }
  ]
}