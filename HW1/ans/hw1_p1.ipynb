{
  "nbformat": 4,
  "nbformat_minor": 0,
  "metadata": {
    "colab": {
      "provenance": [],
      "authorship_tag": "ABX9TyMVG7pMQmaomLO9hN4b4LXy",
      "include_colab_link": true
    },
    "kernelspec": {
      "name": "python3",
      "display_name": "Python 3"
    },
    "language_info": {
      "name": "python"
    }
  },
  "cells": [
    {
      "cell_type": "markdown",
      "metadata": {
        "id": "view-in-github",
        "colab_type": "text"
      },
      "source": [
        "<a href=\"https://colab.research.google.com/github/Rahmat-ML/IUST-DL-Fall2025/blob/main/HW1/ans/hw1_p1.ipynb\" target=\"_parent\"><img src=\"https://colab.research.google.com/assets/colab-badge.svg\" alt=\"Open In Colab\"/></a>"
      ]
    },
    {
      "cell_type": "code",
      "execution_count": null,
      "metadata": {
        "id": "WcjI4rsaje69"
      },
      "outputs": [],
      "source": [
        "import numpy as np"
      ]
    },
    {
      "cell_type": "code",
      "source": [
        "# definition of X\n",
        "X = np.array([[1, 10, 5, 3],\n",
        "              [1, 13, 6, 5],\n",
        "              [1, 8, 4, 3],\n",
        "              [1, 16, 9, 4],\n",
        "              [1, 7, 3, 2]])\n",
        "X"
      ],
      "metadata": {
        "colab": {
          "base_uri": "https://localhost:8080/"
        },
        "id": "4S_3ckOkjzAB",
        "outputId": "b1345c04-7512-456f-c314-5a09b5b92ec4"
      },
      "execution_count": null,
      "outputs": [
        {
          "output_type": "execute_result",
          "data": {
            "text/plain": [
              "array([[ 1, 10,  5,  3],\n",
              "       [ 1, 13,  6,  5],\n",
              "       [ 1,  8,  4,  3],\n",
              "       [ 1, 16,  9,  4],\n",
              "       [ 1,  7,  3,  2]])"
            ]
          },
          "metadata": {},
          "execution_count": 2
        }
      ]
    },
    {
      "cell_type": "code",
      "source": [
        "XtX = np.dot(X.T, X)\n",
        "XtX"
      ],
      "metadata": {
        "colab": {
          "base_uri": "https://localhost:8080/"
        },
        "id": "JwOh_t8UkFMW",
        "outputId": "06dd574a-5d94-4d7c-81bf-93396fe54ad7"
      },
      "execution_count": null,
      "outputs": [
        {
          "output_type": "execute_result",
          "data": {
            "text/plain": [
              "array([[  5,  54,  27,  17],\n",
              "       [ 54, 638, 325, 197],\n",
              "       [ 27, 325, 167,  99],\n",
              "       [ 17, 197,  99,  63]])"
            ]
          },
          "metadata": {},
          "execution_count": 3
        }
      ]
    },
    {
      "cell_type": "code",
      "source": [
        "XtX_inv = np.linalg.inv(XtX)\n",
        "XtX_inv"
      ],
      "metadata": {
        "colab": {
          "base_uri": "https://localhost:8080/"
        },
        "id": "2px80rcvkcdU",
        "outputId": "0f178277-3a24-414f-9bf4-d4e94e8f42e7"
      },
      "execution_count": null,
      "outputs": [
        {
          "data": {
            "text/plain": [
              "array([[ 4.42553191, -1.74468085,  2.24468085,  0.73404255],\n",
              "       [-1.74468085,  1.55319149, -2.05319149, -1.15957447],\n",
              "       [ 2.24468085, -2.05319149,  2.80319149,  1.40957447],\n",
              "       [ 0.73404255, -1.15957447,  1.40957447,  1.2287234 ]])"
            ]
          },
          "execution_count": 5,
          "metadata": {},
          "output_type": "execute_result"
        }
      ]
    },
    {
      "cell_type": "code",
      "source": [
        "Y = np.array([40, 48, 32, 56, 28]).reshape(5, 1)\n",
        "Y"
      ],
      "metadata": {
        "colab": {
          "base_uri": "https://localhost:8080/"
        },
        "id": "UXzK0WD1lMIx",
        "outputId": "384014ed-42ac-49b0-8114-4d365906f027"
      },
      "execution_count": 8,
      "outputs": [
        {
          "output_type": "execute_result",
          "data": {
            "text/plain": [
              "array([[40],\n",
              "       [48],\n",
              "       [32],\n",
              "       [56],\n",
              "       [28]])"
            ]
          },
          "metadata": {},
          "execution_count": 8
        }
      ]
    },
    {
      "cell_type": "code",
      "source": [
        "XtY = np.dot(X.T, Y)\n",
        "XtY"
      ],
      "metadata": {
        "colab": {
          "base_uri": "https://localhost:8080/"
        },
        "id": "Vs-b7sWqmSSI",
        "outputId": "da593b9e-146d-452c-f6bc-eb154dc0a25c"
      },
      "execution_count": 9,
      "outputs": [
        {
          "output_type": "execute_result",
          "data": {
            "text/plain": [
              "array([[ 204],\n",
              "       [2372],\n",
              "       [1204],\n",
              "       [ 736]])"
            ]
          },
          "metadata": {},
          "execution_count": 9
        }
      ]
    },
    {
      "cell_type": "code",
      "source": [
        "w = np.dot(XtX_inv, XtY)\n",
        "w"
      ],
      "metadata": {
        "id": "FCHgAPCvmWmg",
        "colab": {
          "base_uri": "https://localhost:8080/"
        },
        "outputId": "e3f0b729-03be-4985-b638-18bde97d1276"
      },
      "execution_count": 10,
      "outputs": [
        {
          "output_type": "execute_result",
          "data": {
            "text/plain": [
              "array([[7.27659574],\n",
              "       [2.76595745],\n",
              "       [0.23404255],\n",
              "       [0.70212766]])"
            ]
          },
          "metadata": {},
          "execution_count": 10
        }
      ]
    },
    {
      "cell_type": "code",
      "source": [
        "w = np.dot(np.dot(np.linalg.inv(np.dot(X.T, X)), X.T), Y)\n",
        "w"
      ],
      "metadata": {
        "colab": {
          "base_uri": "https://localhost:8080/"
        },
        "id": "kH_YZpcgouDI",
        "outputId": "3607106f-baea-46c4-b6c4-bbc0ac32a4b6"
      },
      "execution_count": 12,
      "outputs": [
        {
          "output_type": "execute_result",
          "data": {
            "text/plain": [
              "array([[7.27659574],\n",
              "       [2.76595745],\n",
              "       [0.23404255],\n",
              "       [0.70212766]])"
            ]
          },
          "metadata": {},
          "execution_count": 12
        }
      ]
    },
    {
      "cell_type": "code",
      "source": [
        "x_new = np.array([1, 11, 6, 4])\n",
        "x_new"
      ],
      "metadata": {
        "colab": {
          "base_uri": "https://localhost:8080/"
        },
        "id": "Y_iufMu3pvl-",
        "outputId": "12a8ca87-ca58-419d-956c-d757c7b3bb55"
      },
      "execution_count": 13,
      "outputs": [
        {
          "output_type": "execute_result",
          "data": {
            "text/plain": [
              "array([ 1, 11,  6,  4])"
            ]
          },
          "metadata": {},
          "execution_count": 13
        }
      ]
    },
    {
      "cell_type": "code",
      "source": [
        "solution = np.dot(x_new, w)\n",
        "print(solution[0])"
      ],
      "metadata": {
        "colab": {
          "base_uri": "https://localhost:8080/"
        },
        "id": "twhn1RGkq1Bp",
        "outputId": "e6321242-0cb9-4070-aa56-98d5107b2a31"
      },
      "execution_count": 20,
      "outputs": [
        {
          "output_type": "stream",
          "name": "stdout",
          "text": [
            "41.91489361701798\n"
          ]
        }
      ]
    }
  ]
}